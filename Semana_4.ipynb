{
  "nbformat": 4,
  "nbformat_minor": 0,
  "metadata": {
    "colab": {
      "provenance": [],
      "authorship_tag": "ABX9TyP2lvoQ8MLwK9/PtMTBmcnO",
      "include_colab_link": true
    },
    "kernelspec": {
      "name": "python3",
      "display_name": "Python 3"
    },
    "language_info": {
      "name": "python"
    }
  },
  "cells": [
    {
      "cell_type": "markdown",
      "metadata": {
        "id": "view-in-github",
        "colab_type": "text"
      },
      "source": [
        "<a href=\"https://colab.research.google.com/github/Blasterjax/ejercicios-logica-semanas-/blob/main/Semana_4.ipynb\" target=\"_parent\"><img src=\"https://colab.research.google.com/assets/colab-badge.svg\" alt=\"Open In Colab\"/></a>"
      ]
    },
    {
      "cell_type": "markdown",
      "source": [
        "1. Escribe un programa que mustre por pantalla la cadena ¡Hola Mundo!."
      ],
      "metadata": {
        "id": "RRu7cqSvzv0W"
      }
    },
    {
      "cell_type": "code",
      "source": [
        "print(\"¡Hola Mundo\")"
      ],
      "metadata": {
        "id": "lH3q1YPjnZ8b"
      },
      "execution_count": null,
      "outputs": []
    },
    {
      "cell_type": "markdown",
      "source": [
        "2. Escribir un programa que almacene la cadena ¡Hola Mundo! en una variable y luego muestre por pantalla el contenido de la variable\n"
      ],
      "metadata": {
        "id": "mx6305Afz9X-"
      }
    },
    {
      "cell_type": "code",
      "source": [
        "mensaje = \"¡Hola Mundo!\"\n",
        "print(mensaje)"
      ],
      "metadata": {
        "id": "Sc7OfnpQobts"
      },
      "execution_count": null,
      "outputs": []
    },
    {
      "cell_type": "markdown",
      "source": [
        "3. Escribir un programa que que pregunte el nombre del usuario y muestre el mensaje \"Hola [nombre]\"."
      ],
      "metadata": {
        "id": "qQLFd1NY2BkG"
      }
    },
    {
      "cell_type": "code",
      "source": [
        "nombre = input(\"Cuál es tu nombre\")\n",
        "print(\"Hola\", nombre)"
      ],
      "metadata": {
        "id": "3uwadI1no0lq"
      },
      "execution_count": null,
      "outputs": []
    },
    {
      "cell_type": "markdown",
      "source": [
        "4. Una panadería vende barras de pan a 3.49€ cada una. El pan que no es del día tiene un descuento del 60%. Escribir un programa que comience leyendo el número de barras vendidas que no son del día. Después el programa debe mostrar el precio habitual de una barra de pan, el descuento que se le hace por no ser fresca y el coste final total."
      ],
      "metadata": {
        "id": "O4Iz6fjC0Opd"
      }
    },
    {
      "cell_type": "code",
      "source": [
        "barras_viejas = int(input(\"Introduce el númer de barras de pan viejo: \"))\n",
        "\n",
        "precio_habitual = 3.49\n",
        "descuento = 0.60\n",
        "\n",
        "precio_descuento = barras_viejas * precio_habitual * descuento\n",
        "\n",
        "print(\"Precio habitual de una barra de pan es de: \", str(precio_habitual), \"€.\")\n",
        "print(\"Descuento de precio por ser pan viejo es de: \", str(descuento * 100), \"%.\")\n",
        "print(\"El precio final es de: \", str(round(precio_descuento, 2)), \"€.\")"
      ],
      "metadata": {
        "id": "hlmmWGHIpg4O"
      },
      "execution_count": null,
      "outputs": []
    },
    {
      "cell_type": "markdown",
      "source": [
        " 5. Escribe un programa que defina dos variables a y b con valores númericos y luego intercambie sus valores sin utilizar una tercera variable."
      ],
      "metadata": {
        "id": "dRzkI_IJ1Ef1"
      }
    },
    {
      "cell_type": "code",
      "source": [
        "a = 5\n",
        "b = 10\n",
        "\n",
        "a, b = b, a\n",
        "\n",
        "print(\"Valor de a después del intercambio\", a)\n",
        "print(\"Valor de b después del inercambio\", b)"
      ],
      "metadata": {
        "id": "MKIXlUcWxhkm"
      },
      "execution_count": null,
      "outputs": []
    },
    {
      "cell_type": "markdown",
      "source": [
        "6. Desarrolla un programa que solicite al usuario ingresar su nombre y su edad, luego imprime un mensaje que diga \"Hola, [nombre], tienes [edad] años\"."
      ],
      "metadata": {
        "id": "kj5T_4C31Xi9"
      }
    },
    {
      "cell_type": "code",
      "source": [
        "nombre = input(\"Por favor introduce tu nombre: \")\n",
        "edad = input(\"Ahora, introduce tu edad: \")\n",
        "\n",
        "print(\"Hola,\", nombre, \", tienes\", edad, \"años.\")"
      ],
      "metadata": {
        "id": "juj-CtRqyh1u"
      },
      "execution_count": null,
      "outputs": []
    },
    {
      "cell_type": "markdown",
      "source": [
        "7. Crea un programa que calcule el área de un triángulo. El usuario debe ingresar la base y la altura.\n"
      ],
      "metadata": {
        "id": "a-bhj6Ci1u3e"
      }
    },
    {
      "cell_type": "code",
      "source": [
        "base = float(input(\"Ingrese la base del triángulo: \"))\n",
        "altura = float(input(\"Ingrese la altura del triángulo: \"))\n",
        "\n",
        "area = (base * altura) / 2\n",
        "\n",
        "print(\"El área del triángulo es: \", area)"
      ],
      "metadata": {
        "id": "Cx_oNDVN2fZV"
      },
      "execution_count": null,
      "outputs": []
    },
    {
      "cell_type": "markdown",
      "source": [
        "8. Desarrolla un programa que convierta grados Celcius a Fahrenheit. El usuario debe ingresar la temperatura en Celsius y el porgrama debe imprimir el equivalente en Fahrenheit.\n"
      ],
      "metadata": {
        "id": "fifYkdfy34V1"
      }
    },
    {
      "cell_type": "code",
      "source": [
        "celcius = float(input(\"Ingrese la temperatura en grados Celsius: \"))\n",
        "\n",
        "farenheit = (celcius * 9/5) + 32\n",
        "\n",
        "print(celcius, \"grados Celcius son equivalentes a\", farenheit, \"grados Fahrenheit.\")"
      ],
      "metadata": {
        "id": "QzVAUS2f4TXo"
      },
      "execution_count": null,
      "outputs": []
    },
    {
      "cell_type": "markdown",
      "source": [
        "9. Escribe un programa que calcule el volumen de una esfera. El usuario debe ingresar el radio."
      ],
      "metadata": {
        "id": "-ODtMAoH6qd-"
      }
    },
    {
      "cell_type": "code",
      "source": [
        "radio = float(input(\"Ingrese el radio de la esfera: \"))\n",
        "\n",
        "volumen = (4/3) * 3.1416 * radio**3\n",
        "\n",
        "print(\"El volumen de la esfera es con radio \", radio, \"es:\", (round(volumen, 2)))"
      ],
      "metadata": {
        "id": "V7BHikUG68zu"
      },
      "execution_count": null,
      "outputs": []
    },
    {
      "cell_type": "markdown",
      "source": [
        "10. Crea un programa que calcule el precio final de un producto después de aplicarle un descuento. El usuario debe ingresar el precio original y el porcentaje de descuento."
      ],
      "metadata": {
        "id": "ru1lJwRR8RoO"
      }
    },
    {
      "cell_type": "code",
      "source": [
        "precio = float(input(\"Ingrese el precio original del producto: \"))\n",
        "descuento = float(input(\"Ingrese el porcentaje de descuento: \"))\n",
        "\n",
        "precio_final = precio - (precio * descuento / 100)\n",
        "\n",
        "print(\"El precio del producto después de aplicarle el descuento de\", descuento ,\"% es: \", precio_final)"
      ],
      "metadata": {
        "id": "KuByfbDJ8xhi"
      },
      "execution_count": null,
      "outputs": []
    },
    {
      "cell_type": "markdown",
      "source": [
        "11. Escribe un programa que simule una calculadora básica. El usuario debe ingresar dos números y elegir la operación a realizar (suma, resta, multiplicación o división)"
      ],
      "metadata": {
        "id": "wl7GjeXR-fbP"
      }
    },
    {
      "cell_type": "code",
      "source": [
        "num1 = float(input(\"Ingrese el primer número: \"))\n",
        "num2 = float(input(\"Ingrese el segundo número: \"))\n",
        "print(\"Operaciones disponible: 1. Suma, 2. Resta, 3. Multiplicación, 4. División\")\n",
        "operacion = input(\"Qué operación desea realizar (1/2/3/4): \")\n",
        "\n",
        "if operacion == \"1\":\n",
        "  resultado = num1 + num2\n",
        "  print(\"El resultado de la suma es: \", resultado)\n",
        "\n",
        "elif operacion == \"2\":\n",
        "  resultado = num1 - num2\n",
        "  print(\"El resultado de la resta es: \", resultado)\n",
        "\n",
        "elif operacion == \"3\":\n",
        "  resultado = num1 * num2\n",
        "  print(\"El resultado de la multiplicación es: \", resultado)\n",
        "\n",
        "elif operacion == \"4\":\n",
        "  if num2 != 0:\n",
        "    resultado = num1 / num2\n",
        "    print(\"El resultado de la división es: \", resultado)\n",
        "  else:\n",
        "    print(\"Error: División por cero no permitida.\")"
      ],
      "metadata": {
        "id": "TnxntBCRXQ3c"
      },
      "execution_count": null,
      "outputs": []
    },
    {
      "cell_type": "markdown",
      "source": [
        "12. Dado un número, decir si es positivo, negativo o cero."
      ],
      "metadata": {
        "id": "kQIiwDfwjSpo"
      }
    },
    {
      "cell_type": "code",
      "source": [
        "num = float(input(\"Introduce un número \"))\n",
        "\n",
        "if num > 0:\n",
        "  print(\"El número es positivo.\")\n",
        "\n",
        "elif num < 0:\n",
        "  print(\"El número es negativo\")\n",
        "\n",
        "else:\n",
        "  print(\"El número es igual a cero.\")"
      ],
      "metadata": {
        "id": "kmLyY0C_kBQ3"
      },
      "execution_count": null,
      "outputs": []
    },
    {
      "cell_type": "markdown",
      "source": [
        "13. Una juguetería tiene mucho éxito en dos de sus productos, payasos y muñecas. Suele hacer venta por correo y la empresa de logística les cobra por peso de cada paquete, así que deben calcular el peso de los payasos y muñecas que saldrán en cada paquete a demanda. Cada payaso pesa 112g y cada muñeca 75g. Escribir un programa que lea el número de payasos y muñecas vendidas en el último pedido y calcule el peso total del paquete que será enviado."
      ],
      "metadata": {
        "id": "oF8hAWJHk6Kv"
      }
    },
    {
      "cell_type": "code",
      "source": [
        "peso_payaso = 112\n",
        "peso_muneca = 75\n",
        "\n",
        "payasos_vendidos = int(input(\"Ingrese el número de payasos vendidos \"))\n",
        "munecas_vendidas = int(input(\"Ingrese el número de muñecas vendidas \"))\n",
        "\n",
        "peso_total = (peso_payaso * payasos_vendidos) + (peso_muneca * munecas_vendidas)\n",
        "\n",
        "print(\"El peso total del paquete que será enviado es de\", peso_total, \"gramos\")"
      ],
      "metadata": {
        "id": "NlaIsWkXmGCO"
      },
      "execution_count": null,
      "outputs": []
    },
    {
      "cell_type": "markdown",
      "source": [
        "14. Escribir un programa que pida al usuario su peso (en kg) y estatura (en metros), calcule el índice de masa corporal y lo almacene en una variable, y muestre por pantalla la frase: Tu índice de masa corporal es imc, donde imc es el índice de masa corporal redondeando a dos cifras."
      ],
      "metadata": {
        "id": "jcxSGGRTnoYO"
      }
    },
    {
      "cell_type": "code",
      "source": [
        "peso = float(input(\"Ingrese su peso (en kg): \"))\n",
        "estatura = float(input(\"Ingrese su estatura (en metros): \"))\n",
        "\n",
        "imc = peso / (estatura**2)\n",
        "\n",
        "print(\"Tu índice de masa corporal es\", round(imc, 2))"
      ],
      "metadata": {
        "id": "jnl4oVGzocZt"
      },
      "execution_count": null,
      "outputs": []
    },
    {
      "cell_type": "markdown",
      "source": [
        "15. Escribir un programa que almacene la cadena de caracteres contraseña en una variable, pregunte al usuario por la contraseña e imprima por pantalla si la contraseña introducida por el usuario coincide con la guardada en la variable ¿Mayúsculas o minúsculas?."
      ],
      "metadata": {
        "id": "UI4yaufVqlIk"
      }
    },
    {
      "cell_type": "code",
      "source": [
        "contra_save = \"TuContraseña123\"\n",
        "contra_ingresa = input(\"Introduce la contraseña: \")\n",
        "\n",
        "if contra_save == contra_ingresa:\n",
        "  print(\"Contraseña correcta!\")\n",
        "else:\n",
        "  print(\"Contraseña incorrecta. Verifica mayúsculas y minúsculas.\")"
      ],
      "metadata": {
        "id": "Ig9ygmprsaTr"
      },
      "execution_count": null,
      "outputs": []
    },
    {
      "cell_type": "markdown",
      "source": [
        "16. Escribir un programa que pida al usuario dos núumeros y devuelva su división. Si el usuario no introduce números\n",
        "debe devolver un aviso de error y si el divisor es cero también."
      ],
      "metadata": {
        "id": "HizoNjDrr1UL"
      }
    },
    {
      "cell_type": "code",
      "source": [
        "try:\n",
        "    num1 = float(input(\"Introduce el numerador: \"))\n",
        "    num2 = float(input(\"Introduce el divisor: \"))\n",
        "except ValueError:\n",
        "    print(\"Error: Ingresa números válidos.\")\n",
        "\n",
        "if num2 == 0:\n",
        "  print(\"Error: No se puede dividir por cero.\")\n",
        "else:\n",
        "  resultado = num1 / num2\n",
        "  print(\"El resultado de la división es: \", resultado)"
      ],
      "metadata": {
        "id": "AFnznV_1sUZT"
      },
      "execution_count": null,
      "outputs": []
    },
    {
      "cell_type": "markdown",
      "source": [
        "17. Escribir un programa que pida al usuario dos numeros y la operacion basica que desea hacer. El programa debe\n",
        "entregar el resultado de la operacion indicada."
      ],
      "metadata": {
        "id": "GIkUCnKuyg2z"
      }
    },
    {
      "cell_type": "code",
      "source": [
        "num1 = float(input(\"Ingrese el primer número: \"))\n",
        "num2 = float(input(\"Ingrese el segundo número: \"))\n",
        "operacion = input(\"Qué operación desea realizar (1.Suma, 2.Resta, 3.Multiplicación, 4.División): \")\n",
        "\n",
        "if operacion == \"1\":\n",
        "  resultado = num1 + num2\n",
        "  print(\"El resultado de la suma es: \", resultado)\n",
        "\n",
        "elif operacion == \"2\":\n",
        "  resultado = num1 - num2\n",
        "  print(\"El resultado de la resta es: \", resultado)\n",
        "\n",
        "elif operacion == \"3\":\n",
        "  resultado = num1 * num2\n",
        "  print(\"El resultado de la multiplicación es: \", resultado)\n",
        "\n",
        "elif operacion == \"4\":\n",
        "  if num2 != 0:\n",
        "    resultado = num1 / num2\n",
        "    print(\"El resultado de la división es: \", resultado)\n",
        "  else:\n",
        "    print(\"Error: División por cero no permitida.\")"
      ],
      "metadata": {
        "id": "uT95eJauy3rg"
      },
      "execution_count": null,
      "outputs": []
    },
    {
      "cell_type": "markdown",
      "source": [
        "18. Escribir un programa que pida al usuario un numero entero y muestre por pantalla si es par o impar."
      ],
      "metadata": {
        "id": "dW_iMd4O0NDI"
      }
    },
    {
      "cell_type": "code",
      "source": [
        "num = int(input(\"Ingrese un número entero: \"))\n",
        "\n",
        "if (num % 2 == 0):\n",
        "    print(\"El número\", num, \"es par.\")\n",
        "else:\n",
        "    print(\"El número\", num, \"es impar.\")"
      ],
      "metadata": {
        "id": "ZIGyvqtx0UIl"
      },
      "execution_count": null,
      "outputs": []
    },
    {
      "cell_type": "markdown",
      "source": [
        "19. Para tributar un determinado impuesto se debe ser mayor de 16 años y tener unos ingresos superiores a 1000 €\n",
        "mensuales. Escribir un programa que pregunte al usuario su edad y sus ingresos mensuales y muestre por pantalla\n",
        "si el usuario tiene que tributar o no."
      ],
      "metadata": {
        "id": "Eb3oNPSs1GzF"
      }
    },
    {
      "cell_type": "code",
      "source": [
        "edad = int(input(\"Ingrese su edad: \"))\n",
        "ingresos = float(input(\"Ingrese sus ingresos mensuales (En €): \"))\n",
        "\n",
        "if (edad >= 16) and (ingresos >= 1000):\n",
        "  print(\"Usted debe tributar.\")\n",
        "else:\n",
        "  print(\"Usted no debe tributar\")"
      ],
      "metadata": {
        "id": "y57A5CDX3Pog"
      },
      "execution_count": null,
      "outputs": []
    },
    {
      "cell_type": "markdown",
      "source": [
        "20. Escribe un programa en Python que pida al usuario ingresar su edad y luego muestre un mensaje indicando si es\n",
        "mayor de edad o no."
      ],
      "metadata": {
        "id": "5dX88QhG4azC"
      }
    },
    {
      "cell_type": "code",
      "source": [
        "edad = int(input(\"Ingrese su edad: \"))\n",
        "\n",
        "if edad >= 18:\n",
        "  print(\"Usted es mayor de edad.\")\n",
        "else:\n",
        "  print(\"Usted no es mayor de edad.\")\n"
      ],
      "metadata": {
        "id": "QHD4U69n4fLL"
      },
      "execution_count": null,
      "outputs": []
    },
    {
      "cell_type": "markdown",
      "source": [
        "21. Desarrolla un programa que pida al usuario ingresar tres numeros y luego indique cual de ellos es el mayor."
      ],
      "metadata": {
        "id": "TQcaNZWg5GS6"
      }
    },
    {
      "cell_type": "code",
      "source": [
        "num1 = float(input(\"Ingrese el primer número: \"))\n",
        "num2 = float(input(\"Ingrese el segundo número: \"))\n",
        "num3 = float(input(\"Ingrese el tercer número: \"))\n",
        "\n",
        "if (num1 > num2) and (num1 > num3):\n",
        "  mayor = num1\n",
        "elif (num2 > num1) and (num2 > num3):\n",
        "  mayor = num2\n",
        "else:\n",
        "  mayor = num3\n",
        "\n",
        "print(\"El número mayor es\", mayor)"
      ],
      "metadata": {
        "id": "6X5dd7vc5NZN"
      },
      "execution_count": null,
      "outputs": []
    }
  ]
}