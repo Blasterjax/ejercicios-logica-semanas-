{
  "nbformat": 4,
  "nbformat_minor": 0,
  "metadata": {
    "colab": {
      "provenance": [],
      "authorship_tag": "ABX9TyNeCfx95BfFEHfx5Piga1oG",
      "include_colab_link": true
    },
    "kernelspec": {
      "name": "python3",
      "display_name": "Python 3"
    },
    "language_info": {
      "name": "python"
    }
  },
  "cells": [
    {
      "cell_type": "markdown",
      "metadata": {
        "id": "view-in-github",
        "colab_type": "text"
      },
      "source": [
        "<a href=\"https://colab.research.google.com/github/Blasterjax/ejercicios-logica-semanas-/blob/main/Semana_5.ipynb\" target=\"_parent\"><img src=\"https://colab.research.google.com/assets/colab-badge.svg\" alt=\"Open In Colab\"/></a>"
      ]
    },
    {
      "cell_type": "markdown",
      "source": [
        "1. Diseña y codifica un programa que lea un número del 0 al 6 y escriba el nombre del día de la semana correspondiente, \"lunes\", \"martes\", ..., \"domingo\". Si el número leído no esta en el intervalo previsto, escribirá \"error\"."
      ],
      "metadata": {
        "id": "k6POeY9xvhN9"
      }
    },
    {
      "cell_type": "code",
      "execution_count": null,
      "metadata": {
        "id": "sFBvqn91veZ4"
      },
      "outputs": [],
      "source": [
        "numero = int(input(\"Ingresa un número del 0 al 6: \"))\n",
        "\n",
        "if numero == 0:\n",
        "  nombre_dia = \"lunes\"\n",
        "\n",
        "elif numero == 1:\n",
        "  nombre_dia = \"martes\"\n",
        "\n",
        "elif numero == 2:\n",
        "  nombre_dia = \"miércoles\"\n",
        "\n",
        "elif numero == 3:\n",
        "  nombre_dia = \"jueves\"\n",
        "\n",
        "elif numero == 4:\n",
        "  nombre_dia = \"viernes\"\n",
        "\n",
        "elif numero == 5:\n",
        "  nombre_dia = \"sábado\"\n",
        "\n",
        "elif numero == 6:\n",
        "  nombre_dia = \"domingo\"\n",
        "\n",
        "if 0 <= numero <= 6:\n",
        "  print(\"El día correspondiente al numero\", numero, \"es\", nombre_dia)\n",
        "else:\n",
        "  print(\"Error: Ingrese un número del 0 al 6.\")"
      ]
    },
    {
      "cell_type": "markdown",
      "source": [
        "*2*. Escribe y codifica un algoritmo que lea tres números enteros, diga cuál es mayor, el mediano y el menor."
      ],
      "metadata": {
        "id": "x2cJoNwdzRYp"
      }
    },
    {
      "cell_type": "code",
      "source": [
        "num1 = int(input(\"Ingrese el primer numero entero: \"))\n",
        "num2 = int(input(\"Ingrese el segundo numero entero: \"))\n",
        "num3 = int(input(\"Ingrese el tercer numero entero: \"))\n",
        "\n",
        "if (num1 > num2) and (num1 > num3):\n",
        "  mayor = num1\n",
        "  if num2 > num3:\n",
        "    mediano = num2\n",
        "    menor = num3\n",
        "  else:\n",
        "    mediano = num3\n",
        "    menor = num2\n",
        "\n",
        "elif (num2 > num1) and (num2 > num3):\n",
        "  mayor = num2\n",
        "  if num1 > num3:\n",
        "    mediano = num1\n",
        "    menor = num3\n",
        "  else:\n",
        "    mediano = num3\n",
        "    menor = num1\n",
        "\n",
        "else:\n",
        "  mayor = num3\n",
        "  if num1 > num2:\n",
        "    mediano = num1\n",
        "    menor = num2\n",
        "  else:\n",
        "    mediano = num2\n",
        "    menor = num1\n",
        "\n",
        "print(\"El mayor es el \", mayor)\n",
        "print(\"El mediano es el \", mediano)\n",
        "print(\"El menor es el \", menor)"
      ],
      "metadata": {
        "id": "q9obd6CA0ADo"
      },
      "execution_count": null,
      "outputs": []
    },
    {
      "cell_type": "markdown",
      "source": [
        "3. Codifica un programa que lea un número del 1 al 12 y escriba el nombre del mes correspondiente, \"enero\", \"febrero\", ..., \"diciembre\". Si el número leído no está en el intervalo previsto, escribirá \"error\"."
      ],
      "metadata": {
        "id": "f5G1Cv6d6D-V"
      }
    },
    {
      "cell_type": "code",
      "source": [
        "numero = int(input(\"Ingrese un número del 1 al 12: \"))\n",
        "\n",
        "if numero == 1:\n",
        "  mes = \"enero\"\n",
        "\n",
        "elif numero == 2:\n",
        "  mes = \"febrero\"\n",
        "\n",
        "elif numero == 3:\n",
        "  mes = \"marzo\"\n",
        "\n",
        "elif numero == 4:\n",
        "  mes = \"abril\"\n",
        "\n",
        "elif numero == 5:\n",
        "  mes = \"mayo\"\n",
        "\n",
        "elif numero == 6:\n",
        "  mes = \"junio\"\n",
        "\n",
        "elif numero == 7:\n",
        "  mes = \"julio\"\n",
        "\n",
        "elif numero == 8:\n",
        "  mes = \"agosto\"\n",
        "\n",
        "elif numero == 9:\n",
        "  mes = \"septiembre\"\n",
        "\n",
        "elif numero == 10:\n",
        "  mes = \"octubre\"\n",
        "\n",
        "elif numero == 11:\n",
        "  mes = \"noviembre\"\n",
        "\n",
        "elif numero == 12:\n",
        "  mes = \"diciembre\"\n",
        "\n",
        "if 1 <= numero <= 12:\n",
        "  print(\"El mes correspondiente al número\", numero, \"es\", mes)\n",
        "else:\n",
        "  print(\"Error: Ingrese un número del 1 al 12.\")"
      ],
      "metadata": {
        "id": "5YWzlaom6mIH"
      },
      "execution_count": null,
      "outputs": []
    },
    {
      "cell_type": "markdown",
      "source": [
        "4. Codifica un programa que, dado el ordinal de un mes, calcule el número de días para ese mes en un año no bisiesto."
      ],
      "metadata": {
        "id": "IeCDbApP7_-I"
      }
    },
    {
      "cell_type": "code",
      "source": [
        "mes = int(input(\"Ingrese el ordinal de un mes (1-12): \"))\n",
        "if 1 <= mes <= 12:\n",
        "  if (mes == 1) or (mes == 3) or (mes == 5) or (mes == 7) or (mes == 8) or (mes == 10) or (mes == 12):\n",
        "    dias = 31\n",
        "  elif (mes == 4) or (mes == 6) or (mes == 9) or (mes == 11):\n",
        "    dias = 30\n",
        "  elif mes == 2:\n",
        "    dias = 28\n",
        "\n",
        "if 1 <= mes <= 12:\n",
        "  print(\"El mes\", mes, \"tiene\", dias, \"días en un año no bisiesto.\")\n",
        "else:\n",
        "  print(\"Error: Ingresa un ordinal de mes válido (1-12)\")"
      ],
      "metadata": {
        "id": "hZOz65iq8YNf"
      },
      "execution_count": null,
      "outputs": []
    },
    {
      "cell_type": "markdown",
      "source": [
        "5. Diseña y codifica un programa que, dado el ordinal de un mes y el año, nos muestre el número de días para ese mes, teniendo en cuenta que puede ser bisiesto."
      ],
      "metadata": {
        "id": "fQm0MeQTBs13"
      }
    },
    {
      "cell_type": "code",
      "source": [
        "mes = int(input(\"Ingrese el ordinal de un mes (1-12): \"))\n",
        "ano = int(input(\"Ingrese el ordinal de un año: \"))\n",
        "\n",
        "if 1 <= mes <= 12:\n",
        "  if (mes == 1) or (mes == 3) or (mes == 5) or (mes == 7) or (mes == 8) or (mes == 10) or (mes == 12):\n",
        "    dias = 31\n",
        "  elif (mes == 4) or (mes == 6) or (mes == 9) or (mes == 11):\n",
        "    dias = 30\n",
        "  elif mes == 2:\n",
        "    if (ano % 4 == 0 and ano % 100 != 0) or (ano % 400 == 0):\n",
        "      dias = 29\n",
        "    else:\n",
        "      dias = 28\n",
        "  print(\"El mes\", mes, \"en el año\", ano, \"tiene\", dias, \"días.\")\n",
        "else:\n",
        "  print(\"Error: Ingresa un ordinal de mes válido 1-12.\")"
      ],
      "metadata": {
        "id": "Fs9mSz7zCMOn"
      },
      "execution_count": null,
      "outputs": []
    },
    {
      "cell_type": "markdown",
      "source": [
        "6. Codifica un programa que pida una fecha y calcule la fecha siguiente, mostrándola en pantalla."
      ],
      "metadata": {
        "id": "l4GE2qSY6u0y"
      }
    },
    {
      "cell_type": "code",
      "source": [
        "dia = int(input(\"Ingresa el día: \"))\n",
        "mes = int(input(\"Ingresa el mes: \"))\n",
        "ano = int(input(\"Ingresa el año: \"))\n",
        "\n",
        "if (1 <= mes <= 12) and (1 <= dia <= 31):\n",
        "    if (mes == 1) or (mes == 3) or (mes == 5) or (mes == 7) or (mes == 8) or (mes == 10) or (mes == 12):\n",
        "        dias_mes = 31\n",
        "    elif (mes == 4) or (mes == 6) or (mes == 9) or (mes == 11):\n",
        "      dias_mes = 30\n",
        "    elif mes == 2:\n",
        "      if (ano % 4 == 0 and ano % 100 != 0) or (ano % 400 == 0):\n",
        "        dias_mes = 29\n",
        "      else:\n",
        "        dias_mes = 28\n",
        "\n",
        "    if 1 <= dia <= dias_mes:\n",
        "        dia_siguiente = dia + 1\n",
        "        mes_siguiente = mes\n",
        "        ano_siguiente = ano\n",
        "        if dia_siguiente > dias_mes:\n",
        "            dia_siguiente = 1\n",
        "            mes_siguiente = mes + 1\n",
        "            if mes_siguiente > 12:\n",
        "                mes_siguiente = 1\n",
        "                ano_siguiente = ano + 1\n",
        "        print(f\"La fecha siguiente es: {dia_siguiente}/{mes_siguiente}/{ano_siguiente}\")\n",
        "    else:\n",
        "        print(\"Error: Día no válido para el mes ingresado.\")\n",
        "\n",
        "else:\n",
        "    print(\"Error: Fecha no válida.\")"
      ],
      "metadata": {
        "id": "idXMi_Wo61D7"
      },
      "execution_count": null,
      "outputs": []
    },
    {
      "cell_type": "markdown",
      "source": [
        "7. Codifica un programa que pida una fecha y calcule la fecha anterior, mostrándola en pantalla."
      ],
      "metadata": {
        "id": "Pxz5_waUAnjx"
      }
    },
    {
      "cell_type": "code",
      "source": [
        "dia = int(input(\"Ingresa el día: \"))\n",
        "mes = int(input(\"Ingresa el mes: \"))\n",
        "ano = int(input(\"Ingresa el año: \"))\n",
        "\n",
        "if (1 <= mes <= 12) and (1 <= dia <= 31):\n",
        "    if mes in (1, 3, 5, 7, 8, 10, 12):\n",
        "        dias_mes = 31\n",
        "    elif mes in (2, 4, 6, 9)\n",
        "      dias_mes = 30\n",
        "    elif mes == 2:\n",
        "      if (ano % 4 == 0 and ano % 100 != 0) or (ano % 400 == 0):\n",
        "        dias_mes = 29\n",
        "      else:\n",
        "        dias_mes = 28\n",
        "\n",
        "    if 1 <= dia <= dias_mes:\n",
        "        dia_anterior = dia - 1\n",
        "        mes_anterior = mes\n",
        "        anno_anterior = ano\n",
        "        if dia_anterior < 1:\n",
        "            mes_anterior = mes - 1\n",
        "            if mes_anterior < 1:\n",
        "                mes_anterior = 12\n",
        "                ano_anterior = ano - 1\n",
        "            dias_mes_anterior = 31 if mes_anterior in [1, 3, 5, 7, 8, 10, 12] else 30\n",
        "            dia_anterior = dias_mes_anterior\n",
        "        print(f\"La fecha anterior es: {dia_anterior}/{mes_anterior}/{anno_anterior}\")\n",
        "    else:\n",
        "        print(\"Error: Día no válido para el mes ingresado.\")\n",
        "else:\n",
        "    print(\"Error: Fecha no válida.\")"
      ],
      "metadata": {
        "id": "sAHLKApTER_8"
      },
      "execution_count": null,
      "outputs": []
    },
    {
      "cell_type": "markdown",
      "source": [
        "8. Escriba un programa que pida dos numeros enteros y que calcule su division, escribiendo si la division es exacta o\n",
        "no. Mejore el programa anterior haciendo que tenga en cuenta que no se puede dividir por cero"
      ],
      "metadata": {
        "id": "4qbdgbvlFM88"
      }
    },
    {
      "cell_type": "code",
      "source": [
        "num1 = int(input(\"Ingrese el primer número entero: \"))\n",
        "num2 =int(input(\"Ingrese el segundo número entero: \"))\n",
        "\n",
        "if num2 != 0:\n",
        "  cociente = num1 // num2\n",
        "  resto = num1 % num2\n",
        "  print(f\"La división es: {cociente}\")\n",
        "  if resto == 0:\n",
        "    print(\"La división es exacta.\")\n",
        "  else:\n",
        "    print(\"la división no es exacta\")\n",
        "\n",
        "else:\n",
        "  print(\"Error: No se puede dividir entre cero.\")"
      ],
      "metadata": {
        "id": "m3Zxdh0zFUhv"
      },
      "execution_count": null,
      "outputs": []
    },
    {
      "cell_type": "markdown",
      "source": [
        "9. Escriba un programa que pida dos números enteros y que escriba si el mayor es múltiplo del menor."
      ],
      "metadata": {
        "id": "upm85A0QH809"
      }
    },
    {
      "cell_type": "code",
      "source": [
        "num1 = int(input(\"ingrese el primer número entero: \"))\n",
        "num2 = int(input(\"Ingrese el segundo número entero: \"))\n",
        "\n",
        "if num1 > num2:\n",
        "  mayor = num1\n",
        "  menor = num2\n",
        "elif num2 > num1:\n",
        "  mayor = num1\n",
        "  menor = num2\n",
        "else:\n",
        "  print(\"Los números ingresados son iguales. No se puede determinar si uno es múltiplo del otro.\")\n",
        "\n",
        "if mayor % menor == 0:\n",
        "  print(f\"{mayor} es múltiplo de {menor}.\")\n",
        "else:\n",
        "  print(f\"{mayor} no es múltiplo de {menor}.\")"
      ],
      "metadata": {
        "id": "84Z7XAE2IB3A"
      },
      "execution_count": null,
      "outputs": []
    },
    {
      "cell_type": "markdown",
      "source": [
        "10. Escriba un programa que pida tres números y que escriba si son los tres iguales, si hay dos iguales o si son los tres\n",
        "distintos."
      ],
      "metadata": {
        "id": "E4aF9yFWKaFE"
      }
    },
    {
      "cell_type": "code",
      "source": [
        "num1 = float(input(\"Ingresa el primer número: \"))\n",
        "num2 = float(input(\"Ingresa el segundo número: \"))\n",
        "num3 = float(input(\"Ingresa el tercer número: \"))\n",
        "\n",
        "if num1 == num2 == num3:\n",
        "  print(\"Los tres numeros son iguales.\")\n",
        "elif (num1 == num2) or (num1 == num3) or (num2 == num3):\n",
        "  print(\"Hay dos números iguales.\")\n",
        "else:\n",
        "  print(\"Los tres números son distintos.\")"
      ],
      "metadata": {
        "id": "8VR1RdLAKhtm"
      },
      "execution_count": null,
      "outputs": []
    },
    {
      "cell_type": "markdown",
      "source": [
        "11. Escriba un programa que pida un año y que escriba si es bisiesto o no. Se recuerda que los años bisiestos son\n",
        "múltiplos de 4, pero los múltiplos de 100 no lo son, aunque los múltiplos de 400 si."
      ],
      "metadata": {
        "id": "W2OxLcTNLyHm"
      }
    },
    {
      "cell_type": "code",
      "source": [
        "ano = int(input(\"Ingrese un año: \"))\n",
        "\n",
        "if (ano % 4 == 0 and ano % 100 != 0) or (ano % 400 == 0):\n",
        "  print(f\"El año {ano} es bisiesto.\")\n",
        "else:\n",
        "  print(f\"El año {ano} no es bisiesto.\")"
      ],
      "metadata": {
        "id": "alEEyYSoL405"
      },
      "execution_count": null,
      "outputs": []
    },
    {
      "cell_type": "markdown",
      "source": [
        "12. Diseña y codifica un programa que lea un real x y caulcule el valor de la función y definida como sigue:\n",
        "\n",
        "y(X)=\n",
        "\n",
        "-1  si − 5 < x < −1\n",
        "\n",
        "x(x + 20) si − 1 ≤ x ≤ 4\n",
        "\n",
        "2x si 4 < x ≤ 10\n",
        "\n",
        "0 en otros casos"
      ],
      "metadata": {
        "id": "xzFoNoHT9fgD"
      }
    },
    {
      "cell_type": "code",
      "source": [
        "x = float(input(\"Ingrese un número real: \"))\n",
        "\n",
        "if -5 < x < -1:\n",
        "  y = -1\n",
        "  print(f\"y(x) = {y}\")\n",
        "elif -1 <= x <= 4:\n",
        "  y = x * (x+20)\n",
        "  print(f\"y(x) = {y}\")\n",
        "elif 4 < x <= 10:\n",
        "  y = 2 * x\n",
        "  print(f\"y(x) = {y}\")\n",
        "else:\n",
        "  y = 0\n",
        "  print(f\"y(x) = {y}\")"
      ],
      "metadata": {
        "id": "UoKz0Aap-LqB"
      },
      "execution_count": null,
      "outputs": []
    },
    {
      "cell_type": "markdown",
      "source": [
        "13. Un hotel tiene tres tipos de habitaciones: estándar, de lujo y suite.\n",
        "\n",
        "• El precio de una habitación estándar es de $ 100 por noche\n",
        "\n",
        "• El precio de una habitación de lujo es de $ 200 por noche\n",
        "\n",
        "• El precio de una suite es de $300 por noche.\n",
        "\n",
        "Ademas, el hotel ofrece un descuento del 10 % si el huesped reserva por mas de 7 noches.\n",
        "Escribe un programa que solicite al usuario el tipo de habitacion y la cantidad de noches que desea reservar, y luego\n",
        "calcule el precio total de la reserva aplicando los descuentos correspondientes.\n"
      ],
      "metadata": {
        "id": "U1evRKcDAgw1"
      }
    },
    {
      "cell_type": "code",
      "source": [
        "precio_estandar = 100\n",
        "precio_lujo = 200\n",
        "precio_suite = 300\n",
        "\n",
        "tipo_hab = input(\"Ingrese el tipo de habitación (estandar, lujo o suite): \")\n",
        "noches = int(input(\"Ingrese la cantidad de noches: \"))\n",
        "\n",
        "if tipo_hab == \"estandar\":\n",
        "  precio = float(precio_estandar * noches)\n",
        "elif tipo_hab == \"lujo\":\n",
        "  precio = float(precio_lujo * noches)\n",
        "elif tipo_hab == \"suite\":\n",
        "  precio = float(precio_suite * noches)\n",
        "\n",
        "if noches > 7:\n",
        "  descuento = float(precio * 0.1)\n",
        "  precio_total = float(precio - descuento)\n",
        "  print(f\"El precio de la reserva con descuento es: ${precio_total}\")\n",
        "else:\n",
        "  precio_total = precio\n",
        "  print(f\"El precio de la reserva es: ${precio_total}\")"
      ],
      "metadata": {
        "id": "UdtM6gx4IefT"
      },
      "execution_count": null,
      "outputs": []
    },
    {
      "cell_type": "markdown",
      "source": [
        "14. Un restaurante ofrece diferentes menus segun el dıa de la semana y el horario. Los menus son los siguientes:\n",
        "\n",
        "• Menu del dıa (lunes a viernes, de 12 p.m. a 3 p.m.): $ 10\n",
        "\n",
        "• Menu especial (viernes y sabado, de 7 p.m. a 10 p.m.): $ 20\n",
        "\n",
        "• Menu estandar (resto de los dıas y horarios): $ 15\n",
        "\n",
        "• Ademas, el restaurante ofrece un descuento del 20 % si el cliente es miembro del club de fidelidad.\n",
        "\n",
        "Escribe un programa que solicite al usuario el dıa de la semana y la hora de la visita, y determine el precio del menu\n",
        "aplicando los descuentos correspondientes."
      ],
      "metadata": {
        "id": "lZEu6v-fKeyv"
      }
    },
    {
      "cell_type": "code",
      "source": [
        "menu_dia = 10\n",
        "menu_especial = 20\n",
        "menu_estandar = 15\n",
        "\n",
        "dia = input(\"Ingrese el día de la semana: \")\n",
        "hora = int(input(\"Ingrese la hora (formato militar): \"))\n",
        "\n",
        "if dia in (\"lunes\", \"martes\", \"miercoles\", \"jueves\", \"viernes\"):\n",
        "  if 12 <= hora <= 15:\n",
        "    precio_menu = menu_dia\n",
        "  elif dia in (\"viernes\", \"sabado\"):\n",
        "    if 19 <= hora <= 22:\n",
        "      precio_menu = menu_especial\n",
        "    else:\n",
        "      precio_menu = menu_estandar\n",
        "  else:\n",
        "    precio_menu = menu_estandar\n",
        "\n",
        "elif dia in (\"sabado\", \"domingo\"):\n",
        "  precio_menu = menu_estandar\n",
        "\n",
        "miembro = input(\"Usted es miembro de fidelidad?: \")\n",
        "\n",
        "if miembro == \"si\":\n",
        "  descuento = precio_menu * 0.2\n",
        "  precio_final = precio_menu - descuento\n",
        "  print(f\"El precio con descuento es: ${precio_final}\")\n",
        "else:\n",
        "  precio_final = precio_menu\n",
        "  print(f\"El precio es: ${precio_final}\")"
      ],
      "metadata": {
        "id": "vGcDk66CKrxH"
      },
      "execution_count": null,
      "outputs": []
    },
    {
      "cell_type": "markdown",
      "source": [
        "15. Una tienda de electronica ofrece descuentos en la compra de productos segun el tipo y la cantidad de productos\n",
        "comprados. Los descuentos son los siguientes:\n",
        "\n",
        "• Si se compran 1 o 2 productos de cualquier tipo, no hay descuento.\n",
        "\n",
        "• Si se compran 3 o mas productos del mismo tipo, se aplica un descuento del 10 %.\n",
        "\n",
        "• Si se compran al menos 5 productos en total, se aplica un descuento adicional del 5 % sobre el total de la\n",
        "compra.\n",
        "\n",
        "Escribe un programa que solicite al usuario el tipo y la cantidad de productos que desea comprar, y calcule el precio\n",
        "total de la compra aplicando los descuentos correspondientes."
      ],
      "metadata": {
        "id": "FfSlZwRzPpam"
      }
    },
    {
      "cell_type": "code",
      "source": [
        "descuento = 0.10\n",
        "descuento_adicional = 0.05\n",
        "\n",
        "tipo = input(\"Ingresa el tipo de producto: \")\n",
        "cantidad = int(input(\"Ingresa la cantidad de productos que desea comprar: \"))\n",
        "\n",
        "precio = 10 * cantidad\n",
        "\n",
        "if cantidad >= 3:\n",
        "  precio_total = float(precio - (precio * descuento))\n",
        "elif cantidad >= 5:\n",
        "  precio_total= float(precio - (precio * descuento_adicional))\n",
        "else:\n",
        "  precio_total = precio\n",
        "print(f\"El precio de los productos es: {precio_total}\")"
      ],
      "metadata": {
        "id": "9UhYifNvPx8O"
      },
      "execution_count": null,
      "outputs": []
    },
    {
      "cell_type": "markdown",
      "source": [
        "16. Implemente el siguiente pseudocódigo en Python.\n"
      ],
      "metadata": {
        "id": "8LWWW8bcV_DE"
      }
    },
    {
      "cell_type": "code",
      "source": [
        "hace_sol = input(\"Hace sol? (true/false): \")\n",
        "if hace_sol == \"true\":\n",
        "  print(\"Iremos al parque.\")\n",
        "else:\n",
        "  llueve = input(\"Está lloviendo? (true/false): \")\n",
        "  if llueve == \"true\":\n",
        "    print(\"Nos quedaremos en casa.\")\n",
        "  else:\n",
        "    cine_abierto = input(\"Está abierto el cine? (true/false): \")\n",
        "    if cine_abierto == \"true\":\n",
        "      print(\"Iremos al cine.\")\n",
        "    else:\n",
        "      print(\"Nos quedaremos en casa.\")"
      ],
      "metadata": {
        "id": "1-CZuuiqWGW8"
      },
      "execution_count": null,
      "outputs": []
    },
    {
      "cell_type": "markdown",
      "source": [
        "17. Implemente el siguiente pseudocódigo en Python."
      ],
      "metadata": {
        "id": "djoSQWkcZ-7_"
      }
    },
    {
      "cell_type": "code",
      "source": [
        "restaurante_lleno = input(\"El restaurate está lleno? (true/false): \")\n",
        "if restaurante_lleno == \"true\":\n",
        "  print(\"Podemos probar en el nuevo cafe de la esquina.\")\n",
        "else:\n",
        "  restaurante_cerrado = input(\"El restaurante esta cerrado? (true/false): \")\n",
        "  if restaurante_cerrado == \"true\":\n",
        "    print(\"Cocinaremos en casa.\")\n",
        "  else:\n",
        "    cansancio = input(\"Estamos demasiado cansados? (true/false): \")\n",
        "    if cansancio == \"true\":\n",
        "      print(\"Descansaremos en lugar de cocinar.\")\n",
        "    else:\n",
        "      print(\"Cocinaremos en casa.\")"
      ],
      "metadata": {
        "id": "ymVBLYWnaIa2"
      },
      "execution_count": null,
      "outputs": []
    },
    {
      "cell_type": "markdown",
      "source": [
        "18. Implemente el siguiente pseudocódigo en Python."
      ],
      "metadata": {
        "id": "uwLZ0ouOe8L3"
      }
    },
    {
      "cell_type": "code",
      "source": [
        "llegada_tiempo = input(\"Llegamos a tiempo al cine? (true/false): \")\n",
        "if llegada_tiempo == \"true\":\n",
        "  print(\"Perfecto.\")\n",
        "else:\n",
        "  print(\"Nos perderemos el comienzo de la pelícla.\")\n",
        "  decidir_otro = input(\"Decidimos ir a otro cine? (true/false): \")\n",
        "  if decidir_otro == \"true\":\n",
        "    cartelera = input(\"¿La película que queremos ver está en cartelera en este cine? (true/false): \")\n",
        "    if cartelera == \"true\":\n",
        "      print(\"Aún podremos disfrutar de la película.\")\n",
        "    else:\n",
        "      print(\"No podremos ver la película que queríamos en ese cine.\")"
      ],
      "metadata": {
        "colab": {
          "base_uri": "https://localhost:8080/"
        },
        "id": "GTEc8wKufDeu",
        "outputId": "b652ae28-6f32-45c9-f3fe-e84203b29db1"
      },
      "execution_count": null,
      "outputs": [
        {
          "output_type": "stream",
          "name": "stdout",
          "text": [
            "Llegamos a tiempo al cine? (true/false): false\n",
            "Nos perderemos el comienzo de la pelícla.\n",
            "Decidimos ir a otro cine? (true/false): true\n",
            "¿La película que queremos ver está en cartelera en este cine? (true/false): true\n",
            "Aún podremos disfrutar de la película.\n"
          ]
        }
      ]
    },
    {
      "cell_type": "markdown",
      "source": [
        "19. Supongamos que tienes una tienda de comida rapida que ofrece descuentos basados en la edad y el tipo de cliente.\n",
        "Los descuentos son los siguientes:\n",
        "\n",
        "• Si el cliente es un estudiante menor de 18 años, obtiene un descuento del 20 %.\n",
        "\n",
        "• Si el cliente es un adulto mayor de 65 años, obtiene un descuento del 25 %.\n",
        "\n",
        "• Si el cliente es un adulto entre 18 y 65 años y es miembro del club de fidelidad, obtiene un descuento del 15 %.\n",
        "\n",
        "• Si el cliente es un adulto entre 18 y 65 años y no es miembro del club de fidelidad, no obtiene descuento.\n",
        "\n",
        "Ahora, escribe un programa que solicite al usuario, su edad y si es miembro del club de fidelidad, y calcule el\n",
        "descuento correspondiente a aplicar en su compra."
      ],
      "metadata": {
        "id": "ELZ4sRrPMZk6"
      }
    },
    {
      "cell_type": "code",
      "source": [
        "edad = int(input(\"Ingrese su edad: \"))\n",
        "cantidad = int(input(\"Ingrese la cantidad de hamburguesas que desea comprar: \"))\n",
        "descuento_estudiante = 0.20\n",
        "descuento_adulto = 0.25\n",
        "descuento_miembro = 0.15\n",
        "precio = 10 * cantidad\n",
        "\n",
        "if edad < 18:\n",
        "  estudiante = input(\"Eres estudiante?: \")\n",
        "  if estudiante == \"si\":\n",
        "    precio_total = float(precio - (precio * descuento_estudiante))\n",
        "  else:\n",
        "    precio_total = precio\n",
        "elif edad < 18 and estudiante == \"no\":\n",
        "    precio_total= float(precio)\n",
        "elif edad > 65:\n",
        "  precio_total = float(precio - (precio * descuento_adulto))\n",
        "elif 18 <= edad <= 65:\n",
        "  miembro = input(\"Eres miembro del club de fidelidad?: \")\n",
        "  if miembro == \"si\":\n",
        "    precio_total = float(precio - (precio *  descuento_miembro))\n",
        "  else:\n",
        "    precio_total = float(precio)\n",
        "print(f\"La cuenta a pagar es de: ${precio_total}\")"
      ],
      "metadata": {
        "id": "PqaP1HlVM_yn"
      },
      "execution_count": null,
      "outputs": []
    },
    {
      "cell_type": "markdown",
      "source": [
        "20. Supongamos que estás desarrollando un sistema de admisión para una universidad que tiene diferentes criterios de\n",
        "admisión según la carrera a la que los estudiantes deseen postularse. Los criterios de admisión son los siguientes:\n",
        "\n",
        "• Para la carrera de Ingeniería, se requiere una calificación mínima en Matemáticas y Física.\n",
        "\n",
        "• Para la carrera de Medicina, se requiere una calificación mínima en Biología y Química.\n",
        "\n",
        "• Para la carrera de Literatura, se requiere una calificación mínima en Lengua y Literatura Universal.\n",
        "\n",
        "• Para el resto de las carreras, se considerará la calificación promedio de todas las materias.\n",
        "\n",
        "Escribe un programa que solicite al usuario las calificaciones en las materias correspondientes y la carrera a la que\n",
        "desea postularse, y determine si el estudiante cumple con los criterios de admisión."
      ],
      "metadata": {
        "id": "AXGx0Im2S486"
      }
    },
    {
      "cell_type": "code",
      "source": [
        "math = float(input(\"Ingrese su calificación en la matería de matemáticas (0-10): \"))\n",
        "fisica = float(input(\"Ingrese su calificación en la matería de física (0-10): \"))\n",
        "biologia = float(input(\"Ingrese su calificación en la matería de biología (0-10): \"))\n",
        "quimica = float(input(\"Ingrese su calificación en la matería de química (0-10): \"))\n",
        "lengua = float(input(\"Ingrese su calificación en la matería de lengua (0-10): \"))\n",
        "literatura = float(input(\"Ingrese su calificación en la matería de literatura universal (0-10): \"))\n",
        "carrera = input(\"A qué carrera desea postularse: \")\n",
        "\n",
        "promedio = (math + fisica + biologia + quimica + lengua + literatura) / 6\n",
        "\n",
        "if carrera == \"ingenieria\":\n",
        "  if math >= 8 and fisica >= 7:\n",
        "    print(\"Usted es admitido.\")\n",
        "  else:\n",
        "    print(\"Usted no es admitido.\")\n",
        "elif carrera == \"medicina\":\n",
        "  if biologia >= 8 and quimica >= 8:\n",
        "    print(\"Usted es admitido.\")\n",
        "  else:\n",
        "    print(\"Usted no es admitido.\")\n",
        "elif carrera == \"literatura\":\n",
        "  if lengua >= 7 and literatura >= 7:\n",
        "    print(\"Usted es admitido\")\n",
        "  else:\n",
        "    print(\"Usted no es admitido.\")\n",
        "elif carrera != \"ingenieria\" and \"medicina\" and \"literatura\":\n",
        "  if promedio >= 7:\n",
        "    print(\"Usted es admitido\")\n",
        "  else:\n",
        "    print(\"Usted no es admitido.\")"
      ],
      "metadata": {
        "id": "SATkiDZJTV3H"
      },
      "execution_count": null,
      "outputs": []
    }
  ]
}